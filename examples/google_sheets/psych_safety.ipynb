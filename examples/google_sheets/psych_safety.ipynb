{
 "cells": [
  {
   "cell_type": "markdown",
   "metadata": {},
   "source": [
    "# Spidercats: psychological safety and generative culture readout\n",
    "Note: \"Spidercats\" is a fictional team-name used for the purpose of this example report.\n",
    "\n",
    "# Introduction\n",
    "In Nov 2020, we’ve measured two aspects of the work environment and culture in the Spidercats engineering team: (i) the degree of psychological safety; and (ii) the degree to which our culture can be considered “generative.” This document provides an overview of these concepts as well as the results of the surveys used to measure these.\n",
    "\n",
    "## What is psychological safety and generative culture?\n",
    "**Psychological safety** expresses the degree to which individuals on our team perceive the work environment as safe to take interpersonal risk, e.g., speaking up with non-confirmative opinions in meetings, asking questions, and asking for help. [Research by Amy Edmondson](https://www.amazon.com/Fearless-Organization-Psychological-Workplace-Innovation/dp/1119477247) as well as “[Project Aristotle](https://rework.withgoogle.com/print/guides/5721312655835136/)”, a large study from Google, has shown that a high degree of psychological safety is an important aspect of effective teams.\n",
    "\n",
    "Related to this is the concept of a **generative culture** which was popularized by the [Accelerate book](https://www.amazon.com/Accelerate-Software-Performing-Technology-Organizations/dp/1942788339) and The “[State of DevOps](https://www.devops-research.com/research.html)” research reports. This model of culture considers culture as being on a spectrum ranging from “pathological” (power-oriented) to “bureaucratic” (rule-oriented) to “generative” (performance-oriented) cultures. In Accelerate it was shown that organizations with generative culture have higher levels of job satisfaction, as well as achieve higher levels of organizational performance (ability to deliver on the goals they set).\n",
    "\n",
    "## The survey\n",
    "We’ve measured the concepts of psychological safety and generative culture within the Spidercats team using a [set of valid and reliable survey questions](https://forms.gle/ByXsuvB614vopVVF7) taken from the research of Amy Edmondson (The Fearless Organization) and Forsgren et. al (Accelerate)."
   ]
  },
  {
   "cell_type": "markdown",
   "metadata": {},
   "source": [
    "# Preparing the analysis\n",
    "We'll use the [Edmondson library](https://github.com/krukow/edmondson/) for analyzing the survey results stored in a Google sheets document.\n",
    "\n",
    "The following code block prepares the library for usage with our dataset."
   ]
  },
  {
   "cell_type": "code",
   "execution_count": 37,
   "metadata": {
    "jupyter": {
     "source_hidden": true
    }
   },
   "outputs": [],
   "source": [
    "(ns google-sheets-example\n",
    "  (:require [edmondson.google-api :as api]\n",
    "            [edmondson.survey-analysis :as analysis]\n",
    "            [edmondson.survey-model :as model]\n",
    "            [edmondson.config :as cfg]\n",
    "            [edmondson.reports :as reports]\n",
    "            [clojure.string :as str])\n",
    "  (:use     [clojupyter.display :only (hiccup-html html latex markdown render-mime)]))\n",
    ";"
   ]
  },
  {
   "cell_type": "markdown",
   "metadata": {},
   "source": [
    "## Converting survey answers to quantitative data\n",
    "The survey has four parts. There are two quantitative (\"[psychometric](https://en.wikipedia.org/wiki/Psychometrics)\") constructs: \"Psychological safety\", \"Generative culture\", and two qualitative, open-ended topics \"Psychological safety domains\", \"Open-ended feedback\".\n",
    "\n",
    "For the quantitative constructs, we'll use a 7pt Likert scale for scoring each of the questions in the construct. \n",
    "\n",
    "The following snipplet defines the scales:"
   ]
  },
  {
   "cell_type": "code",
   "execution_count": 38,
   "metadata": {},
   "outputs": [],
   "source": [
    "(def agree-disagree-7-pt-params ;; default scoring for 7pt Likert scale\n",
    "  {\"Strongly agree\" 7\n",
    "   \"Agree\" 6\n",
    "   \"Somewhat agree\" 5\n",
    "   \"Neutral\" 4\n",
    "   \"Somewhat disagree\" 3\n",
    "   \"Disagree\" 2\n",
    "   \"Strongly Disagree\" 1})\n",
    ";"
   ]
  },
  {
   "cell_type": "markdown",
   "metadata": {},
   "source": [
    "This is the default score for each answer. However, for some questions Strongly agree is the \"worst\" answer and these are scored in reverse. The following two scoring functions represent the default scale and the negative (reverse scale)."
   ]
  },
  {
   "cell_type": "code",
   "execution_count": 39,
   "metadata": {
    "jupyter": {
     "source_hidden": true
    }
   },
   "outputs": [
    {
     "data": {
      "text/plain": [
       "1"
      ]
     },
     "execution_count": 39,
     "metadata": {},
     "output_type": "execute_result"
    }
   ],
   "source": [
    "(defn default-scale \"identity scoring transformation\" [a _] a)\n",
    "\n",
    "(defn negative-scale\n",
    "  \"Scoring transform for reverse-scored likert questions\"\n",
    "  [a likert-scale]\n",
    "  (- (inc (count likert-scale)) a))\n",
    "\n",
    ";; Example\n",
    "(let [answer \"Strongly agree\"\n",
    "      default-score (get agree-disagree-7-pt-params answer)]\n",
    "  (negative-scale default-score agree-disagree-7-pt-params))"
   ]
  },
  {
   "cell_type": "markdown",
   "metadata": {},
   "source": [
    "## Defining a model of the survey\n",
    "The survey model is an important concept in the Edmondson library. The model defines the \"topics\" being surveyed (sometimes called \"constructs\"). Each topic declares how it will be processed in the analysis (e.g. scored quantitatively).\n",
    "\n",
    "For example, the \"Psychological safety\" construct declares: \n",
    "1. a name (\"Psychological safety\");\n",
    "2. a unique set of survey question, e.g. \"I am able to bring up problems and tough issues.\" (implicitly prefixed with \"How much do you agree or disagree with the following statement(s)?\");\n",
    "3. a default scoring map (agree-disagree-7-pt-params) and a default scale (default-scale).\n",
    "4. optionally, each question can override the defaults and state that it must be scored using another scale (e.g. \"I worry that mistakes will be held against me.\" is scored with the `negative-scale` since \"Strongly agree\" is the worst possible answer to this question).\n",
    "\n",
    "As you can see below, psychological safety and generative culture are scored using a 7-pt Likert scale with some questions reverse scored.\n",
    "\n",
    "For \"Psychological safety domains\" and \"Open-ended feedback\" we don't do quantitative analysis. For these we simply gather peoples responses (the `:groups` and `:verbatims` keywords declare this, and the usage is explained later in this document)."
   ]
  },
  {
   "cell_type": "code",
   "execution_count": 40,
   "metadata": {
    "jupyter": {
     "source_hidden": true
    }
   },
   "outputs": [
    {
     "name": "stdout",
     "output_type": "stream",
     "text": [
      "{:scoring\n",
      " {\"Strongly agree\" 7,\n",
      "  \"Agree\" 6,\n",
      "  \"Somewhat agree\" 5,\n",
      "  \"Neutral\" 4,\n",
      "  \"Somewhat disagree\" 3,\n",
      "  \"Disagree\" 2,\n",
      "  \"Strongly Disagree\" 1},\n",
      " :scale #function[google-sheets-example/default-scale]}\n"
     ]
    }
   ],
   "source": [
    "(def example-model\n",
    "  {\n",
    "   \"Psychological safety\"\n",
    "   {:scoring agree-disagree-7-pt-params ;; default scoring with 7p likert scale\n",
    "    :scale default-scale ;; default scale is normal scale\n",
    "    :questions [[\"I worry that mistakes will be held against me.\"\n",
    "                 ;; since Strongly agree is quite bad here.\n",
    "                 ;; this questions is scored in reverse, so we override default scale:\n",
    "                 {:scale negative-scale}]\n",
    "                \"I am able to bring up problems and tough issues.\" ;; defaults\n",
    "                [\"People in the team sometimes reject others for being different.\"\n",
    "                 {:scale negative-scale}]\n",
    "                \"It is safe to take a risk within the team.\"\n",
    "                [\"I find it difficult to ask other members of the team for help.\"\n",
    "                 {:scale negative-scale}]\n",
    "                \"No one in the team would deliberately act in a way that undermines my efforts.\"\n",
    "                \"My unique skills and talents are valued and utilized in this team.\"]}\n",
    "\n",
    "   \"Generative culture\"\n",
    "   {:scoring agree-disagree-7-pt-params\n",
    "    :scale default-scale\n",
    "    :questions [\"No-one is punished for delivering news of failure or other bad news.\"\n",
    "                \"Responsibilities are shared (you hear mostly \\\"this is our responsibility\\\" vs \\\"this is not my responsibility\\\")\"\n",
    "                \"Cross functional and cross-team collaboration is encouraged and rewarded.\"\n",
    "                \"People on our team welcome new ideas, regardless of source and seniority.\"\n",
    "                \"Failure causes inquiry (failures are investigated, not ignored or hidden)\"\n",
    "                \"Failures are treated primarily as opportunities to improve the system, processes or team.\"\n",
    "                \"New information is actively sought out.\"]}\n",
    "\n",
    "   \"Psychological safety domains\"\n",
    "   {:groups [\"For you personally, choose the three topics which you find the most uncomfortable, or where you'd least want to bring up your concerns or have a conversation about.\"]}\n",
    "   ;; This allows us to group responses based on how people check\n",
    "   ;; boxes in this question. Also makes it easier to count which\n",
    "   ;; boxes get the most checks.\n",
    "\n",
    "   \"Open-ended feedback\"\n",
    "   ;; These are not analyzed quantitatively\n",
    "   {:verbatims [\"If you could change one team process, or one thing about how the team works, what would you change and why?\"\n",
    "                \"What is something the team does really well? Something that would make you very disappointed if the team stopped doing or something that makes you proud to be part of the team.\"]}\n",
    "\n",
    "   })\n",
    "\n",
    "(def model-index ;; generate an index of questions\n",
    "  (model/index-questions example-model))\n",
    "\n",
    ";; Example of using the model-index to easily looking up a question by it's unique identifier\n",
    "(-> model-index\n",
    "    (get \"It is safe to take a risk within the team.\")\n",
    "    clojure.pprint/pprint);"
   ]
  },
  {
   "cell_type": "markdown",
   "metadata": {},
   "source": [
    "## Fetch and score the responses\n",
    "With the survey model declared, it is time to gather the responses and analyze them according to the survey model.\n",
    "\n",
    "This code defines where we can find the survey results:"
   ]
  },
  {
   "cell_type": "code",
   "execution_count": 41,
   "metadata": {},
   "outputs": [],
   "source": [
    ";; Assuming the survey results are stored in the Google sheet: \n",
    ";; https://docs.google.com/spreadsheets/d/1QkBeMNGfsHHga85c-UsLAwnpmz7QyhvFK_n31CzDe7c/edit?usp=sharing\n",
    ";; which is connected automatically to the Google form.\n",
    "\n",
    ";; Define where to find the results:\n",
    "(def spreadsheetId \"1QkBeMNGfsHHga85c-UsLAwnpmz7QyhvFK_n31CzDe7c\")\n",
    "(def tab-name \"Form Responses 1\")\n",
    "(def spreadsheet-range (str tab-name \"!B:R\")) ;; this is where the answers are\n",
    "\n",
    ";"
   ]
  },
  {
   "cell_type": "markdown",
   "metadata": {},
   "source": [
    "Now let's fetch and score the responses using the Edmondson library helper functions:\n",
    "\n",
    "*Note: This will take a bit of time to evaluate since it makes REST API calls the Google Sheets API.\n",
    "\n",
    "(You may have to adjust the path to `credentials.json` and `tokens`; paths are relative to this notebook)."
   ]
  },
  {
   "cell_type": "code",
   "execution_count": 42,
   "metadata": {
    "jupyter": {
     "source_hidden": true
    }
   },
   "outputs": [
    {
     "data": {
      "application/json": {
       "answers": {
        "Cross functional and cross-team collaboration is encouraged and rewarded.": "Disagree",
        "Failure causes inquiry (failures are investigated, not ignored or hidden)": "Agree",
        "Failures are treated primarily as opportunities to improve the system, processes or team.": "Disagree",
        "For you personally, choose the three topics which you find the most uncomfortable, or where you'd least want to bring up your concerns or have a conversation about.": "Giving or receiving critical feedback, Asking potentially dumb/newbie questions, Disagreeing or voicing alternative opinions in team meetings",
        "I am able to bring up problems and tough issues.": "Disagree",
        "I find it difficult to ask other members of the team for help.": "Disagree",
        "I worry that mistakes will be held against me.": "Agree",
        "If you could change one team process, or one thing about how the team works, what would you change and why?": "OKRs",
        "It is safe to take a risk within the team.": "Strongly Disagree",
        "My unique skills and talents are valued and utilized in this team.": "Agree",
        "New information is actively sought out.": "Neutral",
        "No one in the team would deliberately act in a way that undermines my efforts.": "Strongly Disagree",
        "No-one is punished for delivering news of failure or other bad news.": "Agree",
        "People in the team sometimes reject others for being different.": "Somewhat agree",
        "People on our team welcome new ideas, regardless of source and seniority.": "Agree",
        "Responsibilities are shared (you hear mostly \"this is our responsibility\" vs \"this is not my responsibility\")": "Disagree",
        "What is something the team does really well? Something that would make you very disappointed if the team stopped doing or something that makes you proud to be part of the team.": "Bonuses are great"
       },
       "groups": {
        "For you personally, choose the three topics which you find the most uncomfortable, or where you'd least want to bring up your concerns or have a conversation about.": "Giving or receiving critical feedback, Asking potentially dumb/newbie questions, Disagreeing or voicing alternative opinions in team meetings"
       },
       "meta-data": {},
       "responseId": 0,
       "scores": {
        "Cross functional and cross-team collaboration is encouraged and rewarded.": 2,
        "Failure causes inquiry (failures are investigated, not ignored or hidden)": 6,
        "Failures are treated primarily as opportunities to improve the system, processes or team.": 2,
        "For you personally, choose the three topics which you find the most uncomfortable, or where you'd least want to bring up your concerns or have a conversation about.": "unscored",
        "I am able to bring up problems and tough issues.": 2,
        "I find it difficult to ask other members of the team for help.": 6,
        "I worry that mistakes will be held against me.": 2,
        "If you could change one team process, or one thing about how the team works, what would you change and why?": "unscored",
        "It is safe to take a risk within the team.": 1,
        "My unique skills and talents are valued and utilized in this team.": 6,
        "New information is actively sought out.": 4,
        "No one in the team would deliberately act in a way that undermines my efforts.": 1,
        "No-one is punished for delivering news of failure or other bad news.": 6,
        "People in the team sometimes reject others for being different.": 3,
        "People on our team welcome new ideas, regardless of source and seniority.": 6,
        "Responsibilities are shared (you hear mostly \"this is our responsibility\" vs \"this is not my responsibility\")": 2,
        "What is something the team does really well? Something that would make you very disappointed if the team stopped doing or something that makes you proud to be part of the team.": "unscored"
       },
       "verbatims": {
        "If you could change one team process, or one thing about how the team works, what would you change and why?": "OKRs",
        "What is something the team does really well? Something that would make you very disappointed if the team stopped doing or something that makes you proud to be part of the team.": "Bonuses are great"
       }
      }
     },
     "execution_count": 42,
     "metadata": {},
     "output_type": "execute_result"
    }
   ],
   "source": [
    "(binding [cfg/*credentials-json-path-override* \"../../credentials.json\"]\n",
    "    (def survey-results \n",
    "        (api/eval-range {:token-directory \"../../tokens\"}\n",
    "                        spreadsheetId \n",
    "                        spreadsheet-range)))\n",
    "\n",
    "(def survey-questions (first survey-results)) ;; first row of sheet are the questions\n",
    "(def survey-answers (rest survey-results)) ;; first row of sheet are the questions, the rest are the answers\n",
    "\n",
    "\n",
    "(def normalized-responses\n",
    "  (api/normalize-responses survey-questions survey-answers))\n",
    "\n",
    "(def scored-responses (analysis/score-responses\n",
    "                       model-index\n",
    "                       normalized-responses))\n",
    "\n",
    ";; Example of a scored response:\n",
    "(->> scored-responses\n",
    "     first\n",
    "     (render-mime \"application/json\"))"
   ]
  },
  {
   "cell_type": "markdown",
   "metadata": {},
   "source": [
    "## Now what?\n",
    "We've done all of the following:\n",
    "1. defined our survey model, \n",
    "2. fetched all the responses, \n",
    "3. scored each response according to the model. \n",
    "\n",
    "We've done all of this with a few lines of code with the help of the Edmondson library.\n",
    "\n",
    "Next we'll perform a data analysis of the survey results, and summarize some key findings."
   ]
  },
  {
   "cell_type": "markdown",
   "metadata": {},
   "source": [
    "# The results: Psychological safety\n",
    "\n",
    "## What is psychological safety and why is it important?\n",
    "Psychological safety expresses the degree to which individuals on our team perceive the work environment as safe to take interpersonal risk, e.g., speaking up with non-confirmative opinions in meetings, asking questions, and asking for help. \n",
    "\n",
    "Psychological safety is critical for creating inclusive and diverse work environments. When people fear that they will be blamed or judged they protect themselves; after all it is safer to be quiet than to speak up. When psychological safety is lacking we may hesitate to disagree with leadership, point out a problem, or pretend that errors did not happen.\n",
    "\n",
    "## Data analysis: Psychological safety\n",
    "The Spidercats engineering team (including engineering managers but excluding eng. director) was surveyed in Nov 2020.\n",
    "\n",
    "### Participation rate\n",
    "We got the following results and participation rate:"
   ]
  },
  {
   "cell_type": "code",
   "execution_count": 43,
   "metadata": {
    "jupyter": {
     "source_hidden": true
    }
   },
   "outputs": [
    {
     "name": "stdout",
     "output_type": "stream",
     "text": [
      "\n",
      "Participation rate: 118.2% (26/22 respondents)"
     ]
    }
   ],
   "source": [
    "(def total-team-size 22) ;; update this to reflect team size\n",
    "(def num-responses (count scored-responses))\n",
    "(def participation-rate (/ num-responses (float total-team-size)))\n",
    "(printf \"\\nParticipation rate: %.1f%% (%d/%d respondents)\" (* participation-rate 100) num-responses total-team-size);"
   ]
  },
  {
   "cell_type": "markdown",
   "metadata": {},
   "source": [
    "## Construct scoring\n",
    "Psychological safety (PS) is scored using a 7pt Likert scale from “Strongly disagree – Strongly agree”.\n",
    "\n",
    "Each question is scored between 1 and 7, where 1 is the worst possible answer and 7 is the best possible answer. (Sometimes “Strongly disagree” is the best possible answer.)\n",
    "\n",
    "There are a total of 7 questions that are scored for PS, and these are summed up so each response is assigned a score between 7 and 49:\n",
    "\n",
    "- The worst possible total score for a single response is 7\n",
    "- The best possible total score for a single response is 49\n",
    "- A score over 40 is considered very good.\n",
    "\n",
    "When evaluating psychological safety for a group of people, we look at the distribution of scores for each respondent.\n",
    "\n",
    "## Overall psychological safety scores"
   ]
  },
  {
   "cell_type": "code",
   "execution_count": 44,
   "metadata": {
    "jupyter": {
     "source_hidden": true
    }
   },
   "outputs": [
    {
     "data": {
      "text/html": [
       "<p>The average psychological safety score is: 32.9 (in the range [7,49]).</p>"
      ]
     },
     "execution_count": 44,
     "metadata": {},
     "output_type": "execute_result"
    }
   ],
   "source": [
    "(def aggregate-results\n",
    "  (analysis/aggregate-scores example-model scored-responses))\n",
    "\n",
    "(def psych-safety-results (get aggregate-results \"Psychological safety\"))\n",
    "(def mean-psych-safety (get-in psych-safety-results [:construct-stats :score-total]))\n",
    "\n",
    "(hiccup-html \n",
    "    [:p \n",
    "     \"The average psychological safety score is: \"\n",
    "     (reports/fmt-number mean-psych-safety)\n",
    "     \" (in the range [7,49]).\"\n",
    "     ])"
   ]
  },
  {
   "cell_type": "code",
   "execution_count": 45,
   "metadata": {
    "jupyter": {
     "source_hidden": true
    }
   },
   "outputs": [
    {
     "data": {
      "application/vnd.vegalite.v3+json": {
       "$schema": "https://vega.github.io/schema/vega-lite/v4.json",
       "data": {
        "values": [
         {
          "good": 40,
          "mean": 32.916666666666664
         }
        ]
       },
       "encoding": {
        "x": {
         "field": "mean",
         "scale": {
          "domain": [
           7,
           49
          ]
         },
         "type": "quantitative"
        }
       },
       "mark": {
        "type": "bar"
       }
      },
      "image/png": "[encoded data removed]"
     },
     "execution_count": 45,
     "metadata": {},
     "output_type": "execute_result"
    }
   ],
   "source": [
    "(render-mime \"application/vnd.vegalite.v3+json\" \n",
    "             {\n",
    "                  :$schema \"https://vega.github.io/schema/vega-lite/v4.json\",\n",
    "                  :data {:values [{:mean mean-psych-safety :good 40}]}\n",
    "                  :mark {:type \"bar\"}\n",
    "                  :encoding {\n",
    "                    :x {:field :mean :type \"quantitative\" :scale {:domain [7 49]}}\n",
    "\n",
    "                  }\n",
    "                })"
   ]
  },
  {
   "cell_type": "markdown",
   "metadata": {},
   "source": [
    "## Question breakdown\n",
    "Across all the responses, on average, the **worst scoring questions were**:\n"
   ]
  },
  {
   "cell_type": "code",
   "execution_count": 46,
   "metadata": {
    "jupyter": {
     "source_hidden": true
    }
   },
   "outputs": [
    {
     "data": {
      "text/html": [
       "<ul><li>\"I find it difficult to ask other members of the team for help.\"<ul><li>Mean score: 4.3 (stddev: 1.1).</li><li>which is between \"Neutral/4\" and \"Somewhat disagree/5\".</li></ul></li><li>\"No one in the team would deliberately act in a way that undermines my efforts.\"<ul><li>Mean score: 4.5 (stddev: 2.2).</li><li>which is between \"Neutral/4\" and \"Somewhat agree/5\".</li></ul></li><li>\"I worry that mistakes will be held against me.\"<ul><li>Mean score: 4.6 (stddev: 2.1).</li><li>which is between \"Neutral/4\" and \"Somewhat disagree/5\".</li></ul></li></ul>"
      ]
     },
     "execution_count": 46,
     "metadata": {},
     "output_type": "execute_result"
    }
   ],
   "source": [
    "(def ps-question-stats (get psych-safety-results :question-stats))\n",
    "(defn ps-question->score [q] (get-in ps-question-stats [:question-stats q]))\n",
    "\n",
    "(defn score->answer\n",
    "    [score qid]\n",
    "    (let [q-scores (:scoring (get model-index qid))\n",
    "          scale (:scale (get model-index qid))\n",
    "          scaled-score (scale score q-scores)]\n",
    "        (some (fn [[answer qscore]] \n",
    "                  (when (= qscore scaled-score) answer)) \n",
    "              q-scores)))\n",
    "\n",
    "(def worst-3-questions\n",
    "    (->> (get ps-question-stats :worst-questions)\n",
    "         (take 3)\n",
    "         (map #(assoc (ps-question->score %) :id %))))\n",
    "\n",
    "(defn render-question [qs]\n",
    "    (let [mean (:score-mean qs)\n",
    "          stddev (:score-stddev qs)\n",
    "          cl (int (Math/ceil mean))\n",
    "          cl-answer (score->answer cl (:id qs))\n",
    "          fl (int (Math/floor mean))\n",
    "          fl-answer (score->answer fl (:id qs))\n",
    "          ]\n",
    "     [:li \"\\\"\" (:id qs) \"\\\"\" \n",
    "      [:ul \n",
    "       [:li \"Mean score: \" (reports/fmt-number mean) \" (stddev: \" (reports/fmt-number stddev) \").\"]\n",
    "       [:li \"which is between \\\"\" fl-answer \"/\" fl \"\\\" and \\\"\" cl-answer \"/\" cl \"\\\".\"]]])\n",
    "    )\n",
    "\n",
    "(hiccup-html \n",
    "    [:ul (map render-question worst-3-questions)])\n"
   ]
  },
  {
   "cell_type": "markdown",
   "metadata": {},
   "source": [
    "Across the responses, on average, the **best scoring questions were**:"
   ]
  },
  {
   "cell_type": "code",
   "execution_count": 47,
   "metadata": {
    "jupyter": {
     "source_hidden": true
    }
   },
   "outputs": [
    {
     "data": {
      "text/html": [
       "<ul><li>\"People in the team sometimes reject others for being different.\"<ul><li>Mean score: 5.1 (stddev: 1.6).</li><li>which is between \"Somewhat disagree/5\" and \"Disagree/6\".</li></ul></li><li>\"My unique skills and talents are valued and utilized in this team.\"<ul><li>Mean score: 4.9 (stddev: 1.2).</li><li>which is between \"Neutral/4\" and \"Somewhat agree/5\".</li></ul></li><li>\"I am able to bring up problems and tough issues.\"<ul><li>Mean score: 4.8 (stddev: 1.9).</li><li>which is between \"Neutral/4\" and \"Somewhat agree/5\".</li></ul></li></ul>"
      ]
     },
     "execution_count": 47,
     "metadata": {},
     "output_type": "execute_result"
    }
   ],
   "source": [
    "(def best-3-questions\n",
    "    (->> (get ps-question-stats :best-questions)\n",
    "         (take 3)\n",
    "         (map #(assoc (ps-question->score %) :id %))))\n",
    "\n",
    "(hiccup-html \n",
    "    [:ul (map render-question best-3-questions)])\n"
   ]
  },
  {
   "cell_type": "markdown",
   "metadata": {},
   "source": [
    "## Outliers\n",
    "When analyzing psychological safety, it is important to look at outliers as well as averages: It is important that *everyone* on the team feel psychologically safe - if that is not the case, we cannot consider the environment fully inclusive, nor can we expect it to bring out the best in everyone on the team.\n",
    "\n",
    "\n",
    "### PS-scores: the distribution\n",
    "This is the distribution of PS scores (normalized to a 1-7 scale (as opposed to 7-49))."
   ]
  },
  {
   "cell_type": "code",
   "execution_count": 48,
   "metadata": {
    "jupyter": {
     "source_hidden": true
    }
   },
   "outputs": [
    {
     "data": {
      "application/vnd.vegalite.v3+json": {
       "$schema": "https://vega.github.io/schema/vega-lite/v4.json",
       "data": {
        "values": [
         {
          "index": 0,
          "mean-score": 3,
          "num-answers": 7,
          "num-questions": 7
         },
         {
          "index": 1,
          "mean-score": 5.571428571428571,
          "num-answers": 7,
          "num-questions": 7
         },
         {
          "index": 2,
          "mean-score": 3.5714285714285716,
          "num-answers": 7,
          "num-questions": 7
         },
         {
          "index": 3,
          "mean-score": 1,
          "num-answers": 7,
          "num-questions": 7
         },
         {
          "index": 4,
          "mean-score": 4.142857142857143,
          "num-answers": 7,
          "num-questions": 7
         },
         {
          "index": 5,
          "mean-score": "NaN",
          "num-answers": 0,
          "num-questions": 0
         },
         {
          "index": 6,
          "mean-score": "NaN",
          "num-answers": 0,
          "num-questions": 0
         },
         {
          "index": 7,
          "mean-score": 5.571428571428571,
          "num-answers": 7,
          "num-questions": 7
         },
         {
          "index": 8,
          "mean-score": 5.571428571428571,
          "num-answers": 7,
          "num-questions": 7
         },
         {
          "index": 9,
          "mean-score": 5.571428571428571,
          "num-answers": 7,
          "num-questions": 7
         },
         {
          "index": 10,
          "mean-score": 5.571428571428571,
          "num-answers": 7,
          "num-questions": 7
         },
         {
          "index": 11,
          "mean-score": 5.571428571428571,
          "num-answers": 7,
          "num-questions": 7
         },
         {
          "index": 12,
          "mean-score": 5.571428571428571,
          "num-answers": 7,
          "num-questions": 7
         },
         {
          "index": 13,
          "mean-score": 5.571428571428571,
          "num-answers": 7,
          "num-questions": 7
         },
         {
          "index": 14,
          "mean-score": 5.571428571428571,
          "num-answers": 7,
          "num-questions": 7
         },
         {
          "index": 15,
          "mean-score": 5.571428571428571,
          "num-answers": 7,
          "num-questions": 7
         },
         {
          "index": 16,
          "mean-score": 5.571428571428571,
          "num-answers": 7,
          "num-questions": 7
         },
         {
          "index": 17,
          "mean-score": 5.571428571428571,
          "num-answers": 7,
          "num-questions": 7
         },
         {
          "index": 18,
          "mean-score": 5.571428571428571,
          "num-answers": 7,
          "num-questions": 7
         },
         {
          "index": 19,
          "mean-score": 5.571428571428571,
          "num-answers": 7,
          "num-questions": 7
         },
         {
          "index": 20,
          "mean-score": 5.571428571428571,
          "num-answers": 7,
          "num-questions": 7
         },
         {
          "index": 21,
          "mean-score": 5.571428571428571,
          "num-answers": 7,
          "num-questions": 7
         },
         {
          "index": 22,
          "mean-score": 3,
          "num-answers": 7,
          "num-questions": 7
         },
         {
          "index": 23,
          "mean-score": 3,
          "num-answers": 7,
          "num-questions": 7
         },
         {
          "index": 24,
          "mean-score": 3,
          "num-answers": 7,
          "num-questions": 7
         },
         {
          "index": 25,
          "mean-score": 3,
          "num-answers": 7,
          "num-questions": 7
         }
        ]
       },
       "description": "Distribution of psych safety scores",
       "encoding": {
        "x": {
         "field": "index",
         "title": "Response number",
         "type": "ordinal"
        },
        "y": {
         "field": "mean-score",
         "scale": {
          "domain": [
           1,
           7
          ]
         },
         "title": "Mean PS score (1-7)",
         "type": "quantitative"
        }
       },
       "mark": "point"
      },
      "image/png": "[encoded data removed]"
     },
     "execution_count": 48,
     "metadata": {},
     "output_type": "execute_result"
    }
   ],
   "source": [
    "(def psych-safety-response-stats (get psych-safety-results :response-stats))\n",
    ";;(render-mime \"application/json\" psych-safety-response-stats)\n",
    "\n",
    "(render-mime \"application/vnd.vegalite.v3+json\" \n",
    "             {\n",
    "                  :$schema \"https://vega.github.io/schema/vega-lite/v4.json\",\n",
    "                  :description \"Distribution of psych safety scores\"\n",
    "                  :data {:values (map-indexed (fn [i x] (assoc x :index i)) \n",
    "                                              (:response-mean-scores psych-safety-response-stats))}\n",
    "                  :mark \"point\"\n",
    "                  :encoding {\n",
    "                    :y {:field :mean-score :type \"quantitative\" :scale {:domain [1 7]} :title \"Mean PS score (1-7)\"}\n",
    "                    :x {:field :index :type \"ordinal\" :title \"Response number\"}\n",
    "                  }\n",
    "                })\n"
   ]
  },
  {
   "cell_type": "markdown",
   "metadata": {},
   "source": [
    "As we can see, there are a people on the team who perceive the environment as less psychologically safe than others. The five worsts scores are:"
   ]
  },
  {
   "cell_type": "code",
   "execution_count": 49,
   "metadata": {
    "jupyter": {
     "source_hidden": true
    }
   },
   "outputs": [
    {
     "data": {
      "text/plain": [
       "(1.0 3.0 3.0 3.0 3.0)"
      ]
     },
     "execution_count": 49,
     "metadata": {},
     "output_type": "execute_result"
    }
   ],
   "source": [
    "(->> (get-in psych-safety-results [:response-stats :worst-scores])\n",
    "     (take 5)\n",
    "     (map :mean-score))"
   ]
  },
  {
   "cell_type": "markdown",
   "metadata": {},
   "source": [
    "### Question breakdown for outliers\n",
    "Let's do a breakdown of scores by question for this group scoring lowest on PS.\n",
    "\n",
    "Across the five worst-scoring responses, the **worst scoring questions were**:"
   ]
  },
  {
   "cell_type": "code",
   "execution_count": 50,
   "metadata": {
    "jupyter": {
     "source_hidden": true
    }
   },
   "outputs": [
    {
     "data": {
      "text/html": [
       "<ul><li>\"It is safe to take a risk within the team.\"<ul><li>Mean score: 1.0 (stddev: 0.0).</li><li>which is between \"Strongly Disagree/1\" and \"Strongly Disagree/1\".</li></ul></li><li>\"No one in the team would deliberately act in a way that undermines my efforts.\"<ul><li>Mean score: 1.0 (stddev: 0.0).</li><li>which is between \"Strongly Disagree/1\" and \"Strongly Disagree/1\".</li></ul></li><li>\"I worry that mistakes will be held against me.\"<ul><li>Mean score: 1.8 (stddev: 0.4).</li><li>which is between \"Strongly agree/1\" and \"Agree/2\".</li></ul></li></ul>"
      ]
     },
     "execution_count": 50,
     "metadata": {},
     "output_type": "execute_result"
    }
   ],
   "source": [
    "(def worst-5-outlier-responses (set (reports/take-outliers 5 :worst-scores psych-safety-results)))\n",
    "(def worst-5-outlier-scored-responses (filter #(worst-5-outlier-responses (:responseId %)) scored-responses))\n",
    "\n",
    "(def worst-5-outlier-psych-safety-results \n",
    "    (get (analysis/aggregate-scores example-model worst-5-outlier-scored-responses)\n",
    "         \"Psychological safety\"))\n",
    "\n",
    "(def worst-5-ps-question-stats (get worst-5-outlier-psych-safety-results :question-stats))\n",
    "(defn worst-5-ps-question->score [q] (get-in worst-5-ps-question-stats [:question-stats q]))\n",
    "\n",
    "(def worst-5-outliers-worst-3-questions\n",
    "    (->> (get worst-5-ps-question-stats :worst-questions)\n",
    "         (take 3)\n",
    "         (map #(assoc (worst-5-ps-question->score %) :id %))))\n",
    "\n",
    "(hiccup-html \n",
    "    [:ul (map render-question worst-5-outliers-worst-3-questions)])\n"
   ]
  },
  {
   "cell_type": "markdown",
   "metadata": {},
   "source": [
    "Across the five worst-scoring responses, the **best scoring questions were**:"
   ]
  },
  {
   "cell_type": "code",
   "execution_count": 51,
   "metadata": {
    "jupyter": {
     "source_hidden": true
    }
   },
   "outputs": [
    {
     "data": {
      "text/html": [
       "<ul><li>\"My unique skills and talents are valued and utilized in this team.\"<ul><li>Mean score: 5.0 (stddev: 2.2).</li><li>which is between \"Somewhat agree/5\" and \"Somewhat agree/5\".</li></ul></li><li>\"I find it difficult to ask other members of the team for help.\"<ul><li>Mean score: 5.0 (stddev: 2.2).</li><li>which is between \"Somewhat disagree/5\" and \"Somewhat disagree/5\".</li></ul></li><li>\"People in the team sometimes reject others for being different.\"<ul><li>Mean score: 2.6 (stddev: 0.9).</li><li>which is between \"Agree/2\" and \"Somewhat agree/3\".</li></ul></li></ul>"
      ]
     },
     "execution_count": 51,
     "metadata": {},
     "output_type": "execute_result"
    }
   ],
   "source": [
    "(def worst-5-outliers-best-3-questions\n",
    "    (->> (get worst-5-ps-question-stats :best-questions)\n",
    "         (take 3)\n",
    "         (map #(assoc (worst-5-ps-question->score %) :id %))))\n",
    "\n",
    "(hiccup-html \n",
    "    [:ul (map render-question worst-5-outliers-best-3-questions)])\n"
   ]
  },
  {
   "cell_type": "markdown",
   "metadata": {},
   "source": [
    "# Psychological safety - domains\n",
    "The degree of psychological safety in a situation can depend on the topic being discussed. It is possible that some topics are perceived as safe whereas others are considered unsafe. To better understand team sentiment, we asked each respondent to \"... choose the three topics which you find the most uncomfortable, or where you'd least want to bring up your concerns or have a conversation about.\"\n",
    "\n",
    "The participants picked among the following options:"
   ]
  },
  {
   "cell_type": "code",
   "execution_count": 55,
   "metadata": {},
   "outputs": [
    {
     "data": {
      "text/html": [
       "<ul><li>Asking potentially dumb/newbie questions: 22 votes.</li><li>Giving or receiving critical feedback: 22 votes.</li><li>Understanding what it takes to get promoted (or why one person was promoted over another): 17 votes.</li><li>Disagreeing or voicing alternative opinions in team meetings: 5 votes.</li><li>Contributing as a more junior team member or one with different credentials: 1 votes.</li><li>Rebalancing your workload (delegating or asking for support): 1 votes.</li><li>Disagreeing with specific people (\"oh, no one argues with them\"): 1 votes.</li></ul>"
      ]
     },
     "execution_count": 55,
     "metadata": {},
     "output_type": "execute_result"
    }
   ],
   "source": [
    "(def domains-map   {\"Giving or receiving critical feedback\" :feedback\n",
    "                    \"Asking potentially dumb/newbie questions\" :questions\n",
    "                    \"Disagreeing or voicing alternative opinions in team meetings\" :meetings\n",
    "                    \"Disagreeing with specific people (\\\"oh, no one argues with them\\\")\" :specific-people\n",
    "                    \"Rebalancing your workload (delegating or asking for support)\" :workload\n",
    "                    \"Contributing as a more junior team member or one with different credentials\" :credentials\n",
    "                    \"Understanding what it takes to get promoted (or why one person was promoted over another)\" :promos\n",
    "                    \"Raising taboo topics (i.e., not up for discussion without invoking very strong pro or con feelings). Please specify the topic(s) under \\\"Other\\\".\" :taboo})\n",
    "\n",
    "(def domains-inverse-map (zipmap (vals domains-map) (keys domains-map)))\n",
    "\n",
    "(def domains-question \"For you personally, choose the three topics which you find the most uncomfortable, or where you'd least want to bring up your concerns or have a conversation about.\")\n",
    "\n",
    "(defn parse-domains [answer]\n",
    "    (->> domains-map\n",
    "         (map (fn [[a k]]                   \n",
    "                  [k (.indexOf answer a)])) ;; find index of each possible answer\n",
    "         (filter (fn [[k index]] (>= index 0)))\n",
    "         (map first)))\n",
    "    \n",
    "\n",
    "(def domains-answers-counts \n",
    "    (->> scored-responses ;; all responses\n",
    "        (map #(get-in % [:groups domains-question])) ;; get the responses to the domain-question\n",
    "        (remove nil?)\n",
    "        (map parse-domains) ;; [ (:a :b :c) (:a :b :d) (:d :e :f) ]\n",
    "        (map frequencies) ;; [{:a 1 :b 1 :c 1} {:a 1 :b 1 :d 1} {:d 1 :e 1 :f 1}]\n",
    "        (apply (partial merge-with +));; {:a 2 :b 2 :c 1 :d 1 :e 1 :f 1}\n",
    "        (sort-by second) ;; ([:f 1] [:e 1] [:d 1] [:c 1] [:b 2] [:a 2])\n",
    "        reverse))\n",
    "\n",
    "(hiccup-html \n",
    "    [:ul (map (fn [[key count]]\n",
    "                  [:li (get domains-inverse-map key) \": \" count \" votes.\"]\n",
    "                  )\n",
    "              domains-answers-counts)])\n",
    "\n"
   ]
  },
  {
   "cell_type": "markdown",
   "metadata": {},
   "source": [
    "\n",
    "# Open-ended feedback\n",
    "We also asked more open-ended questions, allowing people to provide verbatim responses. In these questions, we asked “If you could change one team process or one thing about how the team works, what would you change and why?” and “What is something the team does really well? Something that would make you very disappointed if the team stopped doing or something that makes you proud to be part of the team.”\n",
    "\n",
    "\n",
    "### Q: \"If you could change one team process, or one thing about how the team works, what would you change and why?\"\n",
    "Answers:"
   ]
  },
  {
   "cell_type": "code",
   "execution_count": 53,
   "metadata": {
    "jupyter": {
     "source_hidden": true
    }
   },
   "outputs": [
    {
     "data": {
      "text/html": [
       "<ul><li>\"OKRs.\"</li><li>\"OKRs.\"</li><li>\"too much negativity.\"</li><li>\"Live demo.\"</li><li>\"OKRs.\"</li><li>\"OKRs.\"</li><li>\"OKRs.\"</li><li>\"OKRs.\"</li><li>\"OKRs.\"</li><li>\"OKRs.\"</li><li>\"OKRs.\"</li><li>\"OKRs.\"</li><li>\"OKRs.\"</li><li>\"OKRs.\"</li><li>\"OKRs.\"</li><li>\"OKRs.\"</li><li>\"OKRs.\"</li><li>\"OKRs.\"</li><li>\"OKRs.\"</li><li>\"OKRs.\"</li><li>\"OKRs.\"</li><li>\"OKRs.\"</li><li>\"OKRs.\"</li></ul>"
      ]
     },
     "execution_count": 53,
     "metadata": {},
     "output_type": "execute_result"
    }
   ],
   "source": [
    "(def open-ended-verbatims (:verbatims (get aggregate-results \"Open-ended feedback\")))\n",
    "\n",
    "(def could-be-improved (get open-ended-verbatims \"If you could change one team process, or one thing about how the team works, what would you change and why?\"))\n",
    "\n",
    "(hiccup-html \n",
    "    [:ul (map #(do [:li \"\\\"\" % \".\\\"\"]) could-be-improved)])"
   ]
  },
  {
   "cell_type": "markdown",
   "metadata": {},
   "source": [
    "### Q: \"If you could change one team process, or one thing about how the team works, what would you change and why?\"\n",
    "Answers:"
   ]
  },
  {
   "cell_type": "code",
   "execution_count": 54,
   "metadata": {
    "jupyter": {
     "source_hidden": true
    }
   },
   "outputs": [
    {
     "data": {
      "text/html": [
       "<ul><li>\"Bonuses are great.\"</li><li>\"Social time is nice!.\"</li><li>\"we're really good at....\"</li><li>\"if it crashes.\"</li><li>\"Social time is nice!.\"</li><li>\"Social time is nice!.\"</li><li>\"Social time is nice!.\"</li><li>\"Social time is nice!.\"</li><li>\"Social time is nice!.\"</li><li>\"Social time is nice!.\"</li><li>\"Social time is nice!.\"</li><li>\"Social time is nice!.\"</li><li>\"Social time is nice!.\"</li><li>\"Social time is nice!.\"</li><li>\"Social time is nice!.\"</li><li>\"Social time is nice!.\"</li><li>\"Social time is nice!.\"</li><li>\"Social time is nice!.\"</li><li>\"Social time is nice!.\"</li><li>\"Bonuses are great.\"</li><li>\"Bonuses are great.\"</li><li>\"Bonuses are great.\"</li><li>\"Bonuses are great.\"</li></ul>"
      ]
     },
     "execution_count": 54,
     "metadata": {},
     "output_type": "execute_result"
    }
   ],
   "source": [
    "(def working-well (get open-ended-verbatims \"What is something the team does really well? Something that would make you very disappointed if the team stopped doing or something that makes you proud to be part of the team.\"))\n",
    "(hiccup-html \n",
    "    [:ul (map #(do [:li \"\\\"\" % \".\\\"\"]) working-well)])\n",
    "\n"
   ]
  },
  {
   "cell_type": "markdown",
   "metadata": {},
   "source": [
    "# Have feedback?\n",
    "Please send to @krukow / krukow@github.com"
   ]
  },
  {
   "cell_type": "code",
   "execution_count": null,
   "metadata": {},
   "outputs": [],
   "source": []
  }
 ],
 "metadata": {
  "kernelspec": {
   "display_name": "Clojure (edmondson)",
   "language": "clojure",
   "name": "edmondson"
  },
  "language_info": {
   "file_extension": ".clj",
   "mimetype": "text/x-clojure",
   "name": "clojure",
   "version": "1.10.1"
  }
 },
 "nbformat": 4,
 "nbformat_minor": 4
}
