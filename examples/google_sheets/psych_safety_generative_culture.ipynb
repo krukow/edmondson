{
 "cells": [
  {
   "cell_type": "code",
   "execution_count": 1,
   "metadata": {},
   "outputs": [
    {
     "data": {
      "text/html": [
       "<h1>Example readout report</h1>"
      ]
     },
     "execution_count": 1,
     "metadata": {},
     "output_type": "execute_result"
    }
   ],
   "source": [
    "(ns google-sheets.psych-safety-generative-culture\n",
    "  (:require [edmondson.google-forms :as forms]\n",
    "            [edmondson.models.psychological-safety :as ps]\n",
    "            [edmondson.models.generative-culture :as gc]\n",
    "            [edmondson.reports :as reports]\n",
    "            [edmondson.survey-analysis :as analysis]\n",
    "            [edmondson.html :as html]\n",
    "            [clojure.string :as str])\n",
    "  (:use     [clojupyter.display :only (hiccup-html html render-mime)]))\n",
    "\n",
    "\n",
    ";; Define the survey model used for this survey\n",
    ";; This defines the \"Constructs\" (like \"Psychological safety\"\n",
    ";; How the construct/each question is scored (e.g. 7-pt likert scale)\n",
    "\n",
    "(def example-model\n",
    "  (merge ps/psychological-safety\n",
    "         gc/generative-culture\n",
    "         {\"Psychological safety domains\"\n",
    "          {:groups [\"Which three topics would you find most uncomfortable to have a conversation about?\"]\n",
    "           :options [\"Giving or receiving critical feedback\" \n",
    "                     \"Asking potentially risky/newbie questions\"\n",
    "                     \"Disagreeing and voicing alternative opinions in team meetings or with specific people\"\n",
    "                     \"Reevaluating our team processes and/or beliefs\"\n",
    "                     \"Rebalancing the workload (delegating or asking for support)\"\n",
    "                     \"Discussing career conversations and my future aspirations\"\n",
    "                     \"Understanding promotions (or why one person was promoted over another)\"\n",
    "                     \"Raising \\\"taboo\\\" topics (i.e. not up for discussion). You may specify the topic(s) under \\\"Other\\\".\"]}\n",
    "          ;; This allows us to group responses based on how people check\n",
    "          ;; boxes in this question. Also makes it easier to count which\n",
    "          ;; boxes get the most checks.\n",
    "\n",
    "          \"Open-ended feedback\"\n",
    "          ;; These are not analyzed quantitatively\n",
    "          {:verbatims [\"If you could change one behavior, one process, or just one thing about your team's work environment  -  what would you change and why?\"\n",
    "                       \"What is one thing about your team that you really like and don't want to change, and why?\"]}\n",
    "\n",
    "          }))\n",
    "\n",
    ";; Fetch and analyze survey results\n",
    "(def survey-results\n",
    "  (forms/configure-survey-results\n",
    "   {:credentials \"../../credentials.json\"\n",
    "    :token-directory \"../../tokens\"}\n",
    "   example-model))\n",
    "\n",
    "\n",
    "(hiccup-html [:h1 (:team-name survey-results) \" readout report\"])\n"
   ]
  },
  {
   "cell_type": "markdown",
   "metadata": {},
   "source": [
    "## Introduction\n",
    "Using a short survey, we've measured the degree of psychological safety in the team. This document provides a short introduction to psychological safety, as well as an analysis of the survey data. \n",
    "\n",
    "This document shoulld be reviewed and edited by the survey manager to remove information that may identify individuals before being shared with the team.\n",
    "\n",
    "## What is psychological safety?\n",
    "**Psychological safety** is a belief that one will not be punished or humiliated for speaking up with ideas, questions, concerns or mistakes. Psychological safety is critical for creating inclusive and diverse work environments. When people fear that they will be blamed or judged they protect themselves; after all it is safer to be quiet than to speak up. When psychological safety is lacking we may hesitate to disagree with leadership, point out a problem, or pretend that errors did not happen.\n",
    "\n",
    "[Research by Amy Edmondson](https://www.amazon.com/Fearless-Organization-Psychological-Workplace-Innovation/dp/1119477247) as well as “[Project Aristotle](https://rework.withgoogle.com/print/guides/5721312655835136/)”, a large study from Google, has shown that a high degree of psychological safety is an important aspect of effective teams.\n",
    "\n",
    "Related to this is the concept of a **generative culture** which was popularized by the [Accelerate book](https://www.amazon.com/Accelerate-Software-Performing-Technology-Organizations/dp/1942788339) and The “[State of DevOps](https://www.devops-research.com/research.html)” research reports. This model considers culture as being on a spectrum ranging from “pathological” (power-oriented) to “bureaucratic” (rule-oriented) to “generative” (performance-oriented) cultures. In Accelerate it was shown that organizations with generative culture have higher levels of job satisfaction, as well as achieve higher levels of organizational performance (ability to deliver on the goals they set).\n",
    "\n",
    "\n",
    "We’ve measured the degree of psychological safety and generative culture in the team using a set of valid and reliable survey questions taken from the research of Amy Edmondson (The Fearless Organization) and the [Accelerate book](https://www.amazon.com/Accelerate-Software-Performing-Technology-Organizations/dp/1942788339). The survey has two parts: one quantitative/[psychometric](https://en.wikipedia.org/wiki/Psychometrics) part measuring Psychological safety and generative culture; and two qualitative, open-ended topics \"Psychological safety domains\", \"Open-ended feedback\"."
   ]
  },
  {
   "cell_type": "markdown",
   "metadata": {},
   "source": [
    "# Survey results"
   ]
  },
  {
   "cell_type": "code",
   "execution_count": 2,
   "metadata": {},
   "outputs": [
    {
     "data": {
      "text/html": [
       "<p>The Example team was surveyed in MAY, 2021 with the following participation rate:</p>"
      ]
     },
     "execution_count": 2,
     "metadata": {},
     "output_type": "execute_result"
    }
   ],
   "source": [
    "(let [time-now (java.time.ZonedDateTime/now)]\n",
    "    (hiccup-html \n",
    "        [:p\n",
    "         \"The \"\n",
    "         (:team-name survey-results)\n",
    "         \" team was surveyed in \"\n",
    "         (str (.getMonth time-now)) \", \" (str (.getYear time-now))\n",
    "         \" with the following participation rate:\"]))\n",
    "\n"
   ]
  },
  {
   "cell_type": "code",
   "execution_count": 3,
   "metadata": {},
   "outputs": [
    {
     "name": "stdout",
     "output_type": "stream",
     "text": [
      "\n",
      "Participation rate: 90.0% (9/10 respondents)"
     ]
    }
   ],
   "source": [
    "(printf \"\\nParticipation rate: %.1f%% (%d/%d respondents)\"\n",
    "        (* (:participation-rate survey-results) 100) \n",
    "        (:num-responses survey-results) \n",
    "        (:team-size survey-results))\n",
    ";"
   ]
  },
  {
   "cell_type": "markdown",
   "metadata": {},
   "source": [
    "## Psychological safety scoring\n",
    "This report provides a score for psychological safety for each individual (anonymous) survey respondent. We call this the Psychological Safety Index (PSI) and it is represented by a number between 0 and 100. Low PSI indicates low psychological safety, high PSI indicates high levels of psychological safety.\n",
    "\n",
    "Psychological safety (PS) is scored using a \"7pt Likert scale\" with answers in the range “I strongly disagree – I strongly agree”. Each question is scored between 1 and 7, where 1 is the worst possible answer and 7 is the best possible answer. There are a total of 7 questions that are scored for PS, and these scores are summed up and normalized so each response is assigned a score between 0 and 100. A score over 78 is considered very good.\n",
    "\n",
    "When evaluating psychological safety for a group of people, we look at the distribution of scores for each respondent.\n",
    "\n",
    "## Average Psychological Safety Index"
   ]
  },
  {
   "cell_type": "markdown",
   "metadata": {},
   "source": [
    "We want to dig in and look at the distribution of scores and outliers, however, we'll start by looking at the average PSI. "
   ]
  },
  {
   "cell_type": "code",
   "execution_count": 4,
   "metadata": {},
   "outputs": [
    {
     "data": {
      "text/html": [
       "<div><p>The average PSI is: 24.7. PSI scores over 78 are considered very good. </p><p>Here's a visualization of the 15th percentile (3.2) and the 75th percentile (33.0)</p></div>"
      ]
     },
     "execution_count": 4,
     "metadata": {},
     "output_type": "execute_result"
    }
   ],
   "source": [
    "(def psych-safety-results (get (:aggregate-results survey-results)\n",
    "                               \"Psychological safety\"))\n",
    "(def psi-stats\n",
    "  (let [{:keys [mean quantile]} (get-in psych-safety-results [:construct-stats :psi])]\n",
    "      {:p15 (nth quantile 1)\n",
    "       :p50 (nth quantile 3)\n",
    "       :p75 (nth quantile 4)\n",
    "       :mean mean\n",
    "       :measurement :psi}))\n",
    "\n",
    "(hiccup-html \n",
    "    [:div\n",
    "         [:p \n",
    "         \"The average PSI is: \"\n",
    "             (reports/fmt-number (:mean psi-stats))\n",
    "            \". \"\n",
    "             \"PSI scores over \"\n",
    "             78\n",
    "             \" are considered very good. \"     \n",
    "            ]\n",
    "         [:p \"Here's a visualization of the 15th percentile (\" (reports/fmt-number (:p15 psi-stats)) \")\"\n",
    "          \" and the 75th percentile (\" (reports/fmt-number (:p75 psi-stats)) \")\"\n",
    "          \n",
    "          ]\n",
    "     \n",
    "         ])\n",
    "\n",
    "        "
   ]
  },
  {
   "cell_type": "code",
   "execution_count": 5,
   "metadata": {},
   "outputs": [
    {
     "data": {
      "application/vnd.vegalite.v3+json": {
       "$schema": "https://vega.github.io/schema/vega-lite/v5.json",
       "data": {
        "values": [
         {
          "mean": 24.666666666666668,
          "measurement": "psi",
          "p15": 3.1999999999999993,
          "p50": 16,
          "p75": 33
         }
        ]
       },
       "layer": [
        {
         "encoding": {
          "title": null,
          "x": {
           "field": "mean",
           "scale": {
            "domain": [
             0,
             100
            ]
           },
           "type": "quantitative"
          }
         },
         "mark": {
          "type": "rule"
         }
        },
        {
         "encoding": {
          "color": {
           "field": "measurement",
           "legend": null,
           "type": "nominal"
          },
          "x": {
           "field": "p15",
           "type": "quantitative"
          },
          "x2": {
           "field": "p75"
          }
         },
         "mark": {
          "size": 14,
          "type": "bar"
         }
        }
       ]
      },
      "image/png": "[encoded data removed]"
     },
     "execution_count": 5,
     "metadata": {},
     "output_type": "execute_result"
    }
   ],
   "source": [
    "\n",
    "(render-mime \"application/vnd.vegalite.v3+json\" \n",
    "             {\n",
    "                  :$schema \"https://vega.github.io/schema/vega-lite/v5.json\",              \n",
    "                  :data {:values [psi-stats]}      \n",
    "                  :layer [\n",
    "                    {:mark {:type \"rule\"}\n",
    "                     :encoding {\n",
    "                        :x {:field :mean, :type \"quantitative\" :scale {:domain [0 100]}} :title nil}\n",
    "                     }\n",
    "                     {:mark {:type \"bar\", :size 14},\n",
    "                      :encoding {\n",
    "                        :x {:field :p15, :type \"quantitative\"},\n",
    "                        :x2 {:field :p75},\n",
    "                        :color {:field :measurement, :type \"nominal\" :legend nil}\n",
    "                      }\n",
    "                    }\n",
    "                    \n",
    "                    \n",
    "               ]\n",
    "\n",
    "\n",
    "    } )"
   ]
  },
  {
   "cell_type": "markdown",
   "metadata": {},
   "source": [
    "## Question breakdown\n",
    "Across all the responses, on average, the **worst scoring questions were**:"
   ]
  },
  {
   "cell_type": "code",
   "execution_count": 6,
   "metadata": {},
   "outputs": [
    {
     "data": {
      "text/html": [
       "<ul><li>\"It is difficult to ask other members of this team for help.\"<ul><li>Mean score: 2.2 (stddev: 1.9).</li><li>which is between \"I agree/2\" and \"I agree a little bit/3\".</li></ul></li><li>\"No one on this team would deliberately act in a way that undermines my efforts.\"<ul><li>Mean score: 2.3 (stddev: 1.9).</li><li>which is between \"I disagree/2\" and \"I disagree a little bit/3\".</li></ul></li><li>\"If you make a mistake on this team, it is often held against you.\"<ul><li>Mean score: 2.4 (stddev: 1.8).</li><li>which is between \"I agree/2\" and \"I agree a little bit/3\".</li></ul></li><li>\"Members of this team are able to bring up problems and tough issues.\"<ul><li>Mean score: 2.4 (stddev: 1.8).</li><li>which is between \"I disagree/2\" and \"I disagree a little bit/3\".</li></ul></li></ul>"
      ]
     },
     "execution_count": 6,
     "metadata": {},
     "output_type": "execute_result"
    }
   ],
   "source": [
    "(hiccup-html (html/render-questions               \n",
    "              (analysis/take-questions :worst-questions 4 psych-safety-results)\n",
    "              (:model-index survey-results)))"
   ]
  },
  {
   "cell_type": "markdown",
   "metadata": {},
   "source": [
    "Across the responses, on average, the **best scoring questions were**:"
   ]
  },
  {
   "cell_type": "code",
   "execution_count": 7,
   "metadata": {},
   "outputs": [
    {
     "data": {
      "text/html": [
       "<ul><li>\"Working with members of this team, my unique skills and talents are valued and utilized.\"<ul><li>Mean score: 2.9 (stddev: 2.2).</li><li>which is between \"I disagree/2\" and \"I disagree a little bit/3\".</li></ul></li><li>\"People on this team sometimes reject others for being different.\"<ul><li>Mean score: 2.7 (stddev: 1.9).</li><li>which is between \"I agree/2\" and \"I agree a little bit/3\".</li></ul></li><li>\"It is safe to take a risk in this team.\"<ul><li>Mean score: 2.6 (stddev: 1.8).</li><li>which is between \"I disagree/2\" and \"I disagree a little bit/3\".</li></ul></li><li>\"Members of this team are able to bring up problems and tough issues.\"<ul><li>Mean score: 2.4 (stddev: 1.8).</li><li>which is between \"I disagree/2\" and \"I disagree a little bit/3\".</li></ul></li></ul>"
      ]
     },
     "execution_count": 7,
     "metadata": {},
     "output_type": "execute_result"
    }
   ],
   "source": [
    "(hiccup-html (html/render-questions               \n",
    "              (analysis/take-questions :best-questions 4 psych-safety-results)\n",
    "              (:model-index survey-results)))\n"
   ]
  },
  {
   "cell_type": "markdown",
   "metadata": {},
   "source": [
    "## Outliers\n",
    "When analyzing psychological safety, it is important to look at outliers as well as averages: It is important that *everyone* on the team feel psychologically safe - if that is not the case, we cannot consider the environment fully inclusive, nor can we expect it to bring out the best in everyone on the team.\n",
    "\n",
    "\n",
    "### PSI-scores: the distribution\n",
    "This is the distribution of PSI scores:"
   ]
  },
  {
   "cell_type": "code",
   "execution_count": 8,
   "metadata": {},
   "outputs": [
    {
     "data": {
      "application/vnd.vegalite.v3+json": {
       "$schema": "https://vega.github.io/schema/vega-lite/v4.json",
       "data": {
        "values": [
         {
          "avg": 3,
          "index": 0,
          "psi": 33
         },
         {
          "avg": 6.142857142857143,
          "index": 1,
          "psi": 85
         },
         {
          "avg": 1,
          "index": 2,
          "psi": 0
         },
         {
          "avg": 3,
          "index": 3,
          "psi": 33
         },
         {
          "avg": 2,
          "index": 4,
          "psi": 16
         },
         {
          "avg": 2.428571428571429,
          "index": 5,
          "psi": 23
         },
         {
          "avg": 2,
          "index": 6,
          "psi": 16
         },
         {
          "avg": 2,
          "index": 7,
          "psi": 16
         },
         {
          "avg": 1,
          "index": 8,
          "psi": 0
         }
        ]
       },
       "description": "Distribution of psych safety scores",
       "encoding": {
        "x": {
         "field": "index",
         "title": "Response number",
         "type": "ordinal"
        },
        "y": {
         "field": "psi",
         "scale": {
          "domain": [
           0,
           100
          ]
         },
         "title": "PSI",
         "type": "quantitative"
        }
       },
       "mark": "point"
      },
      "image/png": "[encoded data removed]"
     },
     "execution_count": 8,
     "metadata": {},
     "output_type": "execute_result"
    }
   ],
   "source": [
    "(render-mime \"application/vnd.vegalite.v3+json\" \n",
    "             {\n",
    "                  :$schema \"https://vega.github.io/schema/vega-lite/v4.json\",\n",
    "                  :description \"Distribution of psych safety scores\"\n",
    "                  :data {:values (map-indexed (fn [i x] (assoc x :index i)) \n",
    "                                  (->>     \n",
    "                                    (get-in psych-safety-results [:response-stats :response-scores])\n",
    "                                    (map :measures)\n",
    "                                    (filter #(not (Double/isNaN (:avg %))))))}\n",
    "                  :mark \"point\"\n",
    "                  :encoding {\n",
    "                    :y {:field :psi :type \"quantitative\" :scale {:domain [0 100]} :title \"PSI\"}\n",
    "                    :x {:field :index :type \"ordinal\" :title \"Response number\"}\n",
    "                  }\n",
    "                })\n"
   ]
  },
  {
   "cell_type": "markdown",
   "metadata": {},
   "source": [
    "As we can see, there are a people on the team who perceive the environment as less psychologically safe than others. The worsts scores are:"
   ]
  },
  {
   "cell_type": "code",
   "execution_count": 9,
   "metadata": {},
   "outputs": [
    {
     "data": {
      "text/plain": [
       "(0 0 16 16 16 23 33 33 85)"
      ]
     },
     "execution_count": 9,
     "metadata": {},
     "output_type": "execute_result"
    }
   ],
   "source": [
    "(->> (get-in psych-safety-results [:response-stats :worst-scores])\n",
    "     (take 10)\n",
    "     (map #(get-in % [:measures :psi])))"
   ]
  },
  {
   "cell_type": "markdown",
   "metadata": {},
   "source": [
    "### Question breakdown for outliers\n",
    "Let's do a breakdown of scores by question for this group scoring lowest on PSI.\n",
    "\n"
   ]
  },
  {
   "cell_type": "code",
   "execution_count": 10,
   "metadata": {},
   "outputs": [
    {
     "data": {
      "text/html": [
       "<div><p>There are 2 responses which are scored lower than the 15th percentile score (3.2).</p></div>"
      ]
     },
     "execution_count": 10,
     "metadata": {},
     "output_type": "execute_result"
    }
   ],
   "source": [
    "(def worst-15th-percentile-responses \n",
    "        (analysis/filter-responses [\"Psychological safety\" :psi] \n",
    "                                 #(<= % (:p15 psi-stats)) \n",
    "                                 (:scored-responses survey-results)))\n",
    "\n",
    "(hiccup-html \n",
    "    [:div\n",
    "         [:p \"There are \" (count worst-15th-percentile-responses) \" responses\"\n",
    "          \" which are scored lower than the 15th percentile score (\" (reports/fmt-number (:p15 psi-stats)) \").\"          \n",
    "          ]])\n",
    "\n",
    "        "
   ]
  },
  {
   "cell_type": "markdown",
   "metadata": {},
   "source": [
    "Across the 15th percentile of worst-scoring responses, the **worst scoring questions were**:"
   ]
  },
  {
   "cell_type": "code",
   "execution_count": 11,
   "metadata": {},
   "outputs": [
    {
     "data": {
      "text/html": [
       "<ul><li>\"If you make a mistake on this team, it is often held against you.\"<ul><li>Mean score: 1.0 (stddev: 0.0).</li><li>which is between \"I strongly agree/1\" and \"I strongly agree/1\".</li></ul></li><li>\"Members of this team are able to bring up problems and tough issues.\"<ul><li>Mean score: 1.0 (stddev: 0.0).</li><li>which is between \"I strongly disagree/1\" and \"I strongly disagree/1\".</li></ul></li><li>\"People on this team sometimes reject others for being different.\"<ul><li>Mean score: 1.0 (stddev: 0.0).</li><li>which is between \"I strongly agree/1\" and \"I strongly agree/1\".</li></ul></li><li>\"It is safe to take a risk in this team.\"<ul><li>Mean score: 1.0 (stddev: 0.0).</li><li>which is between \"I strongly disagree/1\" and \"I strongly disagree/1\".</li></ul></li></ul>"
      ]
     },
     "execution_count": 11,
     "metadata": {},
     "output_type": "execute_result"
    }
   ],
   "source": [
    "(def worst-outlier-psych-safety-results \n",
    "    (get (analysis/aggregate-scores example-model worst-15th-percentile-responses)\n",
    "         \"Psychological safety\"))\n",
    "\n",
    "\n",
    "(hiccup-html (html/render-questions               \n",
    "              (analysis/take-questions :worst-questions 4 worst-outlier-psych-safety-results)\n",
    "              (:model-index survey-results)))\n"
   ]
  },
  {
   "cell_type": "markdown",
   "metadata": {},
   "source": [
    "Across the worst-scoring responses, the **best scoring questions were**:"
   ]
  },
  {
   "cell_type": "code",
   "execution_count": 12,
   "metadata": {},
   "outputs": [
    {
     "data": {
      "text/html": [
       "<ul><li>\"Working with members of this team, my unique skills and talents are valued and utilized.\"<ul><li>Mean score: 1.0 (stddev: 0.0).</li><li>which is between \"I strongly disagree/1\" and \"I strongly disagree/1\".</li></ul></li><li>\"No one on this team would deliberately act in a way that undermines my efforts.\"<ul><li>Mean score: 1.0 (stddev: 0.0).</li><li>which is between \"I strongly disagree/1\" and \"I strongly disagree/1\".</li></ul></li><li>\"It is difficult to ask other members of this team for help.\"<ul><li>Mean score: 1.0 (stddev: 0.0).</li><li>which is between \"I strongly agree/1\" and \"I strongly agree/1\".</li></ul></li></ul>"
      ]
     },
     "execution_count": 12,
     "metadata": {},
     "output_type": "execute_result"
    }
   ],
   "source": [
    "(hiccup-html (html/render-questions               \n",
    "              (analysis/take-questions :best-questions 3 worst-outlier-psych-safety-results)\n",
    "              (:model-index survey-results)))\n"
   ]
  },
  {
   "cell_type": "markdown",
   "metadata": {},
   "source": [
    "## Generative culture scoring\n",
    "This report provides a score for generative culture for each individual (anonymous) survey respondent. We call this the Generative Culture Index (GCI) and it is represented by a number between 0 and 100. Low GCI indicates a pathological culture, and high GCI indicates a more generative culture.\n",
    "\n",
    "Generative culture (GC) is scored using a \"7pt Likert scale\" with answers in the range “I strongly disagree – I strongly agree”. Each question is scored between 1 and 7, where 1 is the worst possible answer and 7 is the best possible answer. There are a total of 6 questions that are scored for GC, and these scores are summed up and normalized so each response is assigned a score between 0 and 100. \n",
    "\n",
    "## Average Generative Culture Index"
   ]
  },
  {
   "cell_type": "markdown",
   "metadata": {},
   "source": [
    "We want to dig in and look at the distribution of scores and outliers, however, we'll start by looking at the average PSI. "
   ]
  },
  {
   "cell_type": "code",
   "execution_count": 13,
   "metadata": {},
   "outputs": [
    {
     "data": {
      "text/html": [
       "<div><p>The average GCI is: 37.7. GCI scores over 78 are considered very good. </p><p>Here's a visualization of the 15th percentile (3.2) and the 75th percentile (66.0)</p></div>"
      ]
     },
     "execution_count": 13,
     "metadata": {},
     "output_type": "execute_result"
    }
   ],
   "source": [
    "(def gen-culture-results (get (:aggregate-results survey-results)\n",
    "                               \"Generative culture\"))\n",
    "(def gci-stats\n",
    "  (let [{:keys [mean quantile]} (get-in gen-culture-results [:construct-stats :gci])]\n",
    "      {:p15 (nth quantile 1)\n",
    "       :p50 (nth quantile 3)\n",
    "       :p75 (nth quantile 4)\n",
    "       :mean mean\n",
    "       :measurement :gci}))\n",
    "\n",
    "\n",
    "(hiccup-html \n",
    "    [:div\n",
    "         [:p \n",
    "         \"The average GCI is: \"\n",
    "             (reports/fmt-number (:mean gci-stats))\n",
    "            \". \"\n",
    "             \"GCI scores over \"\n",
    "             78\n",
    "             \" are considered very good. \"     \n",
    "            ]\n",
    "         [:p \"Here's a visualization of the 15th percentile (\" (reports/fmt-number (:p15 gci-stats)) \")\"\n",
    "          \" and the 75th percentile (\" (reports/fmt-number (:p75 gci-stats)) \")\"\n",
    "          \n",
    "          ]\n",
    "     \n",
    "         ])\n",
    "\n",
    "        "
   ]
  },
  {
   "cell_type": "code",
   "execution_count": 14,
   "metadata": {},
   "outputs": [
    {
     "data": {
      "application/vnd.vegalite.v3+json": {
       "$schema": "https://vega.github.io/schema/vega-lite/v5.json",
       "data": {
        "values": [
         {
          "mean": 37.666666666666664,
          "measurement": "gci",
          "p15": 3.1999999999999993,
          "p50": 16,
          "p75": 66
         }
        ]
       },
       "layer": [
        {
         "encoding": {
          "title": null,
          "x": {
           "field": "mean",
           "scale": {
            "domain": [
             0,
             100
            ]
           },
           "type": "quantitative"
          }
         },
         "mark": {
          "type": "rule"
         }
        },
        {
         "encoding": {
          "color": {
           "field": "measurement",
           "legend": null,
           "type": "nominal"
          },
          "x": {
           "field": "p15",
           "type": "quantitative"
          },
          "x2": {
           "field": "p75"
          }
         },
         "mark": {
          "size": 14,
          "type": "bar"
         }
        }
       ]
      },
      "image/png": "[encoded data removed]"
     },
     "execution_count": 14,
     "metadata": {},
     "output_type": "execute_result"
    }
   ],
   "source": [
    "\n",
    "(render-mime \"application/vnd.vegalite.v3+json\" \n",
    "             {\n",
    "                  :$schema \"https://vega.github.io/schema/vega-lite/v5.json\",              \n",
    "                  :data {:values [gci-stats]}      \n",
    "                  :layer [\n",
    "                    {:mark {:type \"rule\"}\n",
    "                     :encoding {\n",
    "                        :x {:field :mean, :type \"quantitative\" :scale {:domain [0 100]}} :title nil}\n",
    "                     }\n",
    "                     {:mark {:type \"bar\", :size 14},\n",
    "                      :encoding {\n",
    "                        :x {:field :p15, :type \"quantitative\"},\n",
    "                        :x2 {:field :p75},\n",
    "                        :color {:field :measurement, :type \"nominal\" :legend nil}\n",
    "                      }\n",
    "                    }\n",
    "                    \n",
    "                    \n",
    "               ]\n",
    "\n",
    "\n",
    "    } )"
   ]
  },
  {
   "cell_type": "markdown",
   "metadata": {},
   "source": [
    "## Question breakdown\n",
    "Across all the responses, on average, the **worst scoring questions were**:"
   ]
  },
  {
   "cell_type": "code",
   "execution_count": 15,
   "metadata": {},
   "outputs": [
    {
     "data": {
      "text/html": [
       "<ul><li>\"Responsibilities are shared.\"<ul><li>Mean score: 2.8 (stddev: 2.0).</li><li>which is between \"I disagree/2\" and \"I disagree a little bit/3\".</li></ul></li><li>\"Cross-functional collaboration is encouraged and rewarded.\"<ul><li>Mean score: 3.1 (stddev: 2.3).</li><li>which is between \"I disagree a little bit/3\" and \"I neither agree or disagree/4\".</li></ul></li><li>\"Failures are treated primarily as opportunities to improve.\"<ul><li>Mean score: 3.1 (stddev: 2.3).</li><li>which is between \"I disagree a little bit/3\" and \"I neither agree or disagree/4\".</li></ul></li><li>\"New ideas are welcomed.\"<ul><li>Mean score: 3.3 (stddev: 2.3).</li><li>which is between \"I disagree a little bit/3\" and \"I neither agree or disagree/4\".</li></ul></li></ul>"
      ]
     },
     "execution_count": 15,
     "metadata": {},
     "output_type": "execute_result"
    }
   ],
   "source": [
    "(hiccup-html (html/render-questions               \n",
    "              (analysis/take-questions :worst-questions 4 gen-culture-results)\n",
    "              (:model-index survey-results)))"
   ]
  },
  {
   "cell_type": "markdown",
   "metadata": {},
   "source": [
    "Across the responses, on average, the **best scoring questions were**:"
   ]
  },
  {
   "cell_type": "code",
   "execution_count": 16,
   "metadata": {},
   "outputs": [
    {
     "data": {
      "text/html": [
       "<ul><li>\"Messengers are not punished when they deliver news of failures or other bad news.\"<ul><li>Mean score: 3.7 (stddev: 2.5).</li><li>which is between \"I disagree a little bit/3\" and \"I neither agree or disagree/4\".</li></ul></li><li>\"Information is actively sought.\"<ul><li>Mean score: 3.6 (stddev: 2.5).</li><li>which is between \"I disagree a little bit/3\" and \"I neither agree or disagree/4\".</li></ul></li><li>\"Failures are investigated, not ignored or hidden.\"<ul><li>Mean score: 3.4 (stddev: 2.3).</li><li>which is between \"I disagree a little bit/3\" and \"I neither agree or disagree/4\".</li></ul></li></ul>"
      ]
     },
     "execution_count": 16,
     "metadata": {},
     "output_type": "execute_result"
    }
   ],
   "source": [
    "(hiccup-html (html/render-questions               \n",
    "              (analysis/take-questions :best-questions 3 gen-culture-results)\n",
    "              (:model-index survey-results)))"
   ]
  },
  {
   "cell_type": "markdown",
   "metadata": {},
   "source": [
    "## Outliers\n",
    "\n",
    "When analyzing generative culture, it is important to look at outliers as well as averages.\n",
    "\n",
    "### GCI-scores: the distribution\n",
    "\n",
    "This is the distribution of GCI scores:"
   ]
  },
  {
   "cell_type": "code",
   "execution_count": 17,
   "metadata": {},
   "outputs": [
    {
     "data": {
      "application/vnd.vegalite.v3+json": {
       "$schema": "https://vega.github.io/schema/vega-lite/v4.json",
       "data": {
        "values": [
         {
          "avg": 3.857142857142857,
          "gci": 47,
          "index": 0
         },
         {
          "avg": 5.714285714285714,
          "gci": 78,
          "index": 1
         },
         {
          "avg": 1,
          "gci": 0,
          "index": 2
         },
         {
          "avg": 5,
          "gci": 66,
          "index": 3
         },
         {
          "avg": 2,
          "gci": 16,
          "index": 4
         },
         {
          "avg": 7,
          "gci": 100,
          "index": 5
         },
         {
          "avg": 2,
          "gci": 16,
          "index": 6
         },
         {
          "avg": 2,
          "gci": 16,
          "index": 7
         },
         {
          "avg": 1,
          "gci": 0,
          "index": 8
         }
        ]
       },
       "description": "Distribution of generative culture scores",
       "encoding": {
        "x": {
         "field": "index",
         "title": "Response number",
         "type": "ordinal"
        },
        "y": {
         "field": "gci",
         "scale": {
          "domain": [
           0,
           100
          ]
         },
         "title": "GCI",
         "type": "quantitative"
        }
       },
       "mark": "point"
      },
      "image/png": "[encoded data removed]"
     },
     "execution_count": 17,
     "metadata": {},
     "output_type": "execute_result"
    }
   ],
   "source": [
    "(render-mime \"application/vnd.vegalite.v3+json\" \n",
    "             {\n",
    "                  :$schema \"https://vega.github.io/schema/vega-lite/v4.json\",\n",
    "                  :description \"Distribution of generative culture scores\"\n",
    "                  :data {:values (map-indexed (fn [i x] (assoc x :index i)) \n",
    "                                  (->>     \n",
    "                                    (get-in gen-culture-results [:response-stats :response-scores])\n",
    "                                    (map :measures)\n",
    "                                    (filter #(not (Double/isNaN (:avg %))))))}\n",
    "                  :mark \"point\"\n",
    "                  :encoding {\n",
    "                    :y {:field :gci :type \"quantitative\" :scale {:domain [0 100]} :title \"GCI\"}\n",
    "                    :x {:field :index :type \"ordinal\" :title \"Response number\"}\n",
    "                  }\n",
    "                })"
   ]
  },
  {
   "cell_type": "markdown",
   "metadata": {},
   "source": [
    "As we can see, there are a people on the team who perceive the culture differently than others. The worsts scores are:"
   ]
  },
  {
   "cell_type": "code",
   "execution_count": 18,
   "metadata": {},
   "outputs": [
    {
     "data": {
      "text/plain": [
       "(0 0 16 16 16 47 66 78 100)"
      ]
     },
     "execution_count": 18,
     "metadata": {},
     "output_type": "execute_result"
    }
   ],
   "source": [
    "(->> (get-in gen-culture-results [:response-stats :worst-scores])\n",
    "     (take 10)\n",
    "     (map #(:gci (:measures %))))"
   ]
  },
  {
   "cell_type": "markdown",
   "metadata": {},
   "source": [
    "### Question breakdown for outliers\n",
    "\n",
    "Let's do a breakdown of scores by question for this group scoring lowest on GCI.\n",
    "\n"
   ]
  },
  {
   "cell_type": "code",
   "execution_count": 19,
   "metadata": {},
   "outputs": [
    {
     "data": {
      "text/html": [
       "<div><p>There are 2 responses which are scored lower than the 15th percentile score (3.2).</p></div>"
      ]
     },
     "execution_count": 19,
     "metadata": {},
     "output_type": "execute_result"
    }
   ],
   "source": [
    "(def worst-15th-percentile-responses \n",
    "        (analysis/filter-responses [\"Generative culture\" :gci]\n",
    "                                 #(<= % (:p15 gci-stats))\n",
    "                                 (:scored-responses survey-results)))\n",
    "\n",
    "(hiccup-html\n",
    "    [:div\n",
    "         [:p \"There are \" (count worst-15th-percentile-responses) \" responses\"\n",
    "          \" which are scored lower than the 15th percentile score (\" (reports/fmt-number (:p15 gci-stats)) \").\"          \n",
    "          ]])\n",
    "\n",
    "        "
   ]
  },
  {
   "cell_type": "markdown",
   "metadata": {},
   "source": [
    "Across the 15th percentile of worst-scoring responses, the **worst scoring questions were**:"
   ]
  },
  {
   "cell_type": "code",
   "execution_count": 20,
   "metadata": {},
   "outputs": [
    {
     "data": {
      "text/html": [
       "<ul><li>\"Messengers are not punished when they deliver news of failures or other bad news.\"<ul><li>Mean score: 1.0 (stddev: 0.0).</li><li>which is between \"I strongly disagree/1\" and \"I strongly disagree/1\".</li></ul></li><li>\"Responsibilities are shared.\"<ul><li>Mean score: 1.0 (stddev: 0.0).</li><li>which is between \"I strongly disagree/1\" and \"I strongly disagree/1\".</li></ul></li><li>\"Cross-functional collaboration is encouraged and rewarded.\"<ul><li>Mean score: 1.0 (stddev: 0.0).</li><li>which is between \"I strongly disagree/1\" and \"I strongly disagree/1\".</li></ul></li><li>\"New ideas are welcomed.\"<ul><li>Mean score: 1.0 (stddev: 0.0).</li><li>which is between \"I strongly disagree/1\" and \"I strongly disagree/1\".</li></ul></li></ul>"
      ]
     },
     "execution_count": 20,
     "metadata": {},
     "output_type": "execute_result"
    }
   ],
   "source": [
    "(def worst-outlier-gen-culture-results \n",
    "    (get (analysis/aggregate-scores example-model worst-15th-percentile-responses)\n",
    "         \"Generative culture\"))\n",
    "\n",
    "\n",
    "(hiccup-html (html/render-questions               \n",
    "              (analysis/take-questions :worst-questions 4 worst-outlier-gen-culture-results)\n",
    "              (:model-index survey-results)))\n"
   ]
  },
  {
   "cell_type": "markdown",
   "metadata": {},
   "source": [
    "Across the 15th percentile of worst-scoring responses, the **best scoring questions were**:"
   ]
  },
  {
   "cell_type": "code",
   "execution_count": 21,
   "metadata": {},
   "outputs": [
    {
     "data": {
      "text/html": [
       "<ul><li>\"Information is actively sought.\"<ul><li>Mean score: 1.0 (stddev: 0.0).</li><li>which is between \"I strongly disagree/1\" and \"I strongly disagree/1\".</li></ul></li><li>\"Failures are treated primarily as opportunities to improve.\"<ul><li>Mean score: 1.0 (stddev: 0.0).</li><li>which is between \"I strongly disagree/1\" and \"I strongly disagree/1\".</li></ul></li><li>\"Failures are investigated, not ignored or hidden.\"<ul><li>Mean score: 1.0 (stddev: 0.0).</li><li>which is between \"I strongly disagree/1\" and \"I strongly disagree/1\".</li></ul></li></ul>"
      ]
     },
     "execution_count": 21,
     "metadata": {},
     "output_type": "execute_result"
    }
   ],
   "source": [
    "(hiccup-html (html/render-questions               \n",
    "              (analysis/take-questions :best-questions 3 worst-outlier-gen-culture-results)\n",
    "              (:model-index survey-results)))\n"
   ]
  },
  {
   "cell_type": "markdown",
   "metadata": {},
   "source": [
    "# Psychological safety - domains\n",
    "The degree of psychological safety in a situation can depend on the topic being discussed. It is possible that some topics are perceived as safe whereas others are considered unsafe. To better understand team sentiment, we asked each respondent \"Which three topics would you find most uncomfortable to have a conversation about?\"\n",
    "\n",
    "The participants picked among the following options:"
   ]
  },
  {
   "cell_type": "code",
   "execution_count": 22,
   "metadata": {},
   "outputs": [
    {
     "data": {
      "text/html": [
       "<ul><li>Giving or receiving critical feedback: 6 votes.</li><li>Disagreeing or voicing alternative opinions in team meetings, Understanding what it takes to get promoted (or why one person was promoted over another): 3 votes.</li><li>Rebalancing the workload (delegating or asking for support): 1 votes.</li><li>Reevaluating our team processes and/or beliefs: 1 votes.</li><li>Disagreeing and voicing alternative opinions in team meetings or with specific people: 1 votes.</li><li>Disagreeing or voicing alternative opinions in team meetings, Rebalancing your workload (delegating or asking for support): 1 votes.</li><li>Asking potentially dumb/newbie questions, Disagreeing or voicing alternative opinions in team meetings: 1 votes.</li><li>Disagreeing with specific people (\"oh, no one argues with them\"): 1 votes.</li></ul>"
      ]
     },
     "execution_count": 22,
     "metadata": {},
     "output_type": "execute_result"
    }
   ],
   "source": [
    "(def domain-options (get-in example-model [\"Psychological safety domains\" :options]))\n",
    "\n",
    "(def domains-question \"Which three topics would you find most uncomfortable to have a conversation about?\")\n",
    "\n",
    "(defn parse-domains [answer]\n",
    "    (->> domain-options\n",
    "         (map (fn [a]                   \n",
    "                  [a (.indexOf answer a)])) ;; find index of each possible answer\n",
    "         (filter (fn [[_ index]] (>= index 0)))))\n",
    "\n",
    "(defn answer-frequencies \n",
    "    [answer]\n",
    "    (let [domain-answers (parse-domains answer)\n",
    "          unparsed-answer \n",
    "              (reduce \n",
    "               (fn [acc [a index]] \n",
    "                   (-> acc\n",
    "                       (clojure.string/replace a \"\") ;; remove parsed answers\n",
    "                       (clojure.string/replace #\"^(, )+\" \"\") ;; clean up string by removing leading \", \"\n",
    "                       clojure.string/trim))\n",
    "                answer\n",
    "                domain-answers)\n",
    "          domain-answers (map first domain-answers) ;; remove indexes\n",
    "          parsed-answers (if-not (clojure.string/blank? unparsed-answer)\n",
    "                                (conj domain-answers unparsed-answer)\n",
    "                                domain-answers)]\n",
    "        (zipmap parsed-answers (repeat 1))))\n",
    "\n",
    "(def domains-answers-counts \n",
    "    (->> (:scored-responses survey-results) ;; all responses\n",
    "        (map #(get-in % [:groups domains-question])) ;; get the responses to the domain-question\n",
    "        (remove clojure.string/blank?)\n",
    "        (map answer-frequencies);; [{:a 1 :b 1 :c 1} {:a 1 :b 1 :d 1} {:d 1 :e 1 :f 1}]\n",
    "        (apply (partial merge-with +));; {:a 2 :b 2 :c 1 :d 1 :e 1 :f 1}\n",
    "        (sort-by second) ;; ([:f 1] [:e 1] [:d 1] [:c 1] [:b 2] [:a 2])\n",
    "        reverse))\n",
    "\n",
    "(hiccup-html \n",
    "    [:ul (map (fn [[key count]]\n",
    "                  [:li key \": \" count \" votes.\"]\n",
    "                  )\n",
    "              domains-answers-counts)])"
   ]
  },
  {
   "cell_type": "markdown",
   "metadata": {},
   "source": [
    "\n",
    "# Open-ended feedback\n",
    "We also asked more open-ended questions, allowing people to provide verbatim responses. In these questions, we asked “If you could change one team process or one thing about how the team works, what would you change and why?” and “What is something the team does really well? Something that would make you very disappointed if the team stopped doing or something that makes you proud to be part of the team.”\n",
    "\n",
    "\n",
    "### Q: \"If you could change one behavior, one process, or just one thing about your team's work environment  -  what would you change and why?\"\n",
    "Answers:"
   ]
  },
  {
   "cell_type": "code",
   "execution_count": 23,
   "metadata": {},
   "outputs": [
    {
     "data": {
      "text/html": [
       "<ul><li>\"A\"</li><li>\"1\"</li><li>\"X\"</li><li>\"P\"</li><li>\"Psy low\"</li><li>\"P\"</li><li>\"P\"</li></ul>"
      ]
     },
     "execution_count": 23,
     "metadata": {},
     "output_type": "execute_result"
    }
   ],
   "source": [
    "(def open-ended-verbatims (:verbatims (get (:aggregate-results survey-results) \"Open-ended feedback\")))\n",
    "\n",
    "(def could-be-improved \n",
    "    (->> \n",
    "        (get open-ended-verbatims \"If you could change one behavior, one process, or just one thing about your team's work environment  -  what would you change and why?\")\n",
    "        (filter (complement clojure.string/blank?))))\n",
    "\n",
    "(hiccup-html \n",
    "    [:ul (map #(do [:li \"\\\"\" % \"\\\"\"]) could-be-improved)])"
   ]
  },
  {
   "cell_type": "markdown",
   "metadata": {},
   "source": [
    "### Q: \"What is one thing about your team that you really like and don't want to change, and why?\"\n",
    "Answers:"
   ]
  },
  {
   "cell_type": "code",
   "execution_count": 24,
   "metadata": {},
   "outputs": [
    {
     "data": {
      "text/html": [
       "<ul><li>\"B\"</li><li>\"2\"</li><li>\"Y\"</li><li>\"Q\"</li><li>\"Gen high\"</li><li>\"Q\"</li><li>\"Q\"</li></ul>"
      ]
     },
     "execution_count": 24,
     "metadata": {},
     "output_type": "execute_result"
    }
   ],
   "source": [
    "(def working-well \n",
    " (->> (get open-ended-verbatims \"What is one thing about your team that you really like and don't want to change, and why?\")\n",
    "    (filter (complement clojure.string/blank?))))\n",
    "\n",
    "(hiccup-html \n",
    "    [:ul (map #(do [:li \"\\\"\" % \"\\\"\"]) working-well)])\n",
    "\n"
   ]
  },
  {
   "cell_type": "markdown",
   "metadata": {},
   "source": [
    "# Have feedback?\n",
    "Please send to @krukow / krukow@github.com"
   ]
  }
 ],
 "metadata": {
  "kernelspec": {
   "display_name": "Clojure (edmondson)",
   "language": "clojure",
   "name": "edmondson"
  },
  "language_info": {
   "file_extension": ".clj",
   "mimetype": "text/x-clojure",
   "name": "clojure",
   "version": "1.10.3"
  }
 },
 "nbformat": 4,
 "nbformat_minor": 4
}
